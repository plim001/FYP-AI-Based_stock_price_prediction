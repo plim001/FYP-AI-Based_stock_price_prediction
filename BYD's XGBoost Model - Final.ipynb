{
 "cells": [
  {
   "cell_type": "markdown",
   "id": "d96d4f70",
   "metadata": {},
   "source": [
    "# Stock Prices Prediction Using XGBoost"
   ]
  },
  {
   "cell_type": "code",
   "execution_count": 1,
   "id": "d5a89673",
   "metadata": {},
   "outputs": [],
   "source": [
    "import pandas as pd\n",
    "import numpy as np\n",
    "import matplotlib.pyplot as plt\n",
    "%matplotlib inline\n",
    "import yfinance as yf\n",
    "import time\n",
    "from xgboost import XGBRegressor\n",
    "from sklearn.metrics import mean_squared_error\n",
    "import warnings\n",
    "warnings.filterwarnings(\"ignore\")"
   ]
  },
  {
   "cell_type": "code",
   "execution_count": 2,
   "id": "f0133632",
   "metadata": {},
   "outputs": [
    {
     "name": "stdout",
     "output_type": "stream",
     "text": [
      "[*********************100%***********************]  1 of 1 completed\n"
     ]
    },
    {
     "data": {
      "text/html": [
       "<div>\n",
       "<style scoped>\n",
       "    .dataframe tbody tr th:only-of-type {\n",
       "        vertical-align: middle;\n",
       "    }\n",
       "\n",
       "    .dataframe tbody tr th {\n",
       "        vertical-align: top;\n",
       "    }\n",
       "\n",
       "    .dataframe thead th {\n",
       "        text-align: right;\n",
       "    }\n",
       "</style>\n",
       "<table border=\"1\" class=\"dataframe\">\n",
       "  <thead>\n",
       "    <tr style=\"text-align: right;\">\n",
       "      <th></th>\n",
       "      <th>Open</th>\n",
       "      <th>High</th>\n",
       "      <th>Low</th>\n",
       "      <th>Close</th>\n",
       "      <th>Adj Close</th>\n",
       "      <th>Volume</th>\n",
       "    </tr>\n",
       "    <tr>\n",
       "      <th>Date</th>\n",
       "      <th></th>\n",
       "      <th></th>\n",
       "      <th></th>\n",
       "      <th></th>\n",
       "      <th></th>\n",
       "      <th></th>\n",
       "    </tr>\n",
       "  </thead>\n",
       "  <tbody>\n",
       "    <tr>\n",
       "      <th>2020-07-30</th>\n",
       "      <td>18.709999</td>\n",
       "      <td>18.969999</td>\n",
       "      <td>18.580000</td>\n",
       "      <td>18.730000</td>\n",
       "      <td>18.705582</td>\n",
       "      <td>88600</td>\n",
       "    </tr>\n",
       "    <tr>\n",
       "      <th>2020-07-31</th>\n",
       "      <td>19.020000</td>\n",
       "      <td>19.100000</td>\n",
       "      <td>18.799999</td>\n",
       "      <td>18.889999</td>\n",
       "      <td>18.865374</td>\n",
       "      <td>48400</td>\n",
       "    </tr>\n",
       "    <tr>\n",
       "      <th>2020-08-03</th>\n",
       "      <td>19.330000</td>\n",
       "      <td>19.410000</td>\n",
       "      <td>19.209999</td>\n",
       "      <td>19.299999</td>\n",
       "      <td>19.274837</td>\n",
       "      <td>124000</td>\n",
       "    </tr>\n",
       "    <tr>\n",
       "      <th>2020-08-04</th>\n",
       "      <td>19.850000</td>\n",
       "      <td>20.139999</td>\n",
       "      <td>19.820000</td>\n",
       "      <td>20.080000</td>\n",
       "      <td>20.053823</td>\n",
       "      <td>57500</td>\n",
       "    </tr>\n",
       "    <tr>\n",
       "      <th>2020-08-05</th>\n",
       "      <td>20.180000</td>\n",
       "      <td>20.290001</td>\n",
       "      <td>20.090000</td>\n",
       "      <td>20.160000</td>\n",
       "      <td>20.133718</td>\n",
       "      <td>60200</td>\n",
       "    </tr>\n",
       "    <tr>\n",
       "      <th>...</th>\n",
       "      <td>...</td>\n",
       "      <td>...</td>\n",
       "      <td>...</td>\n",
       "      <td>...</td>\n",
       "      <td>...</td>\n",
       "      <td>...</td>\n",
       "    </tr>\n",
       "    <tr>\n",
       "      <th>2022-08-22</th>\n",
       "      <td>69.800003</td>\n",
       "      <td>70.519997</td>\n",
       "      <td>69.800003</td>\n",
       "      <td>70.199997</td>\n",
       "      <td>70.199997</td>\n",
       "      <td>77400</td>\n",
       "    </tr>\n",
       "    <tr>\n",
       "      <th>2022-08-23</th>\n",
       "      <td>69.000000</td>\n",
       "      <td>69.809998</td>\n",
       "      <td>67.889999</td>\n",
       "      <td>69.019997</td>\n",
       "      <td>69.019997</td>\n",
       "      <td>158700</td>\n",
       "    </tr>\n",
       "    <tr>\n",
       "      <th>2022-08-24</th>\n",
       "      <td>66.690002</td>\n",
       "      <td>67.550003</td>\n",
       "      <td>66.000000</td>\n",
       "      <td>67.070000</td>\n",
       "      <td>67.070000</td>\n",
       "      <td>138700</td>\n",
       "    </tr>\n",
       "    <tr>\n",
       "      <th>2022-08-25</th>\n",
       "      <td>67.150002</td>\n",
       "      <td>68.010002</td>\n",
       "      <td>66.220001</td>\n",
       "      <td>68.010002</td>\n",
       "      <td>68.010002</td>\n",
       "      <td>274600</td>\n",
       "    </tr>\n",
       "    <tr>\n",
       "      <th>2022-08-26</th>\n",
       "      <td>68.620003</td>\n",
       "      <td>69.239998</td>\n",
       "      <td>67.360001</td>\n",
       "      <td>67.470001</td>\n",
       "      <td>67.470001</td>\n",
       "      <td>227100</td>\n",
       "    </tr>\n",
       "  </tbody>\n",
       "</table>\n",
       "<p>524 rows × 6 columns</p>\n",
       "</div>"
      ],
      "text/plain": [
       "                 Open       High        Low      Close  Adj Close  Volume\n",
       "Date                                                                     \n",
       "2020-07-30  18.709999  18.969999  18.580000  18.730000  18.705582   88600\n",
       "2020-07-31  19.020000  19.100000  18.799999  18.889999  18.865374   48400\n",
       "2020-08-03  19.330000  19.410000  19.209999  19.299999  19.274837  124000\n",
       "2020-08-04  19.850000  20.139999  19.820000  20.080000  20.053823   57500\n",
       "2020-08-05  20.180000  20.290001  20.090000  20.160000  20.133718   60200\n",
       "...               ...        ...        ...        ...        ...     ...\n",
       "2022-08-22  69.800003  70.519997  69.800003  70.199997  70.199997   77400\n",
       "2022-08-23  69.000000  69.809998  67.889999  69.019997  69.019997  158700\n",
       "2022-08-24  66.690002  67.550003  66.000000  67.070000  67.070000  138700\n",
       "2022-08-25  67.150002  68.010002  66.220001  68.010002  68.010002  274600\n",
       "2022-08-26  68.620003  69.239998  67.360001  67.470001  67.470001  227100\n",
       "\n",
       "[524 rows x 6 columns]"
      ]
     },
     "execution_count": 2,
     "metadata": {},
     "output_type": "execute_result"
    }
   ],
   "source": [
    "# Accquiring stock data starting from 30 July 2020 to 27 August 2022 and preview the data\n",
    "stock_data = yf.download('BYDDY', start='2020-07-31', end='2022-08-27')\n",
    "stock_data"
   ]
  },
  {
   "cell_type": "code",
   "execution_count": 3,
   "id": "9388b2d4",
   "metadata": {
    "scrolled": false
   },
   "outputs": [
    {
     "data": {
      "text/html": [
       "<div>\n",
       "<style scoped>\n",
       "    .dataframe tbody tr th:only-of-type {\n",
       "        vertical-align: middle;\n",
       "    }\n",
       "\n",
       "    .dataframe tbody tr th {\n",
       "        vertical-align: top;\n",
       "    }\n",
       "\n",
       "    .dataframe thead th {\n",
       "        text-align: right;\n",
       "    }\n",
       "</style>\n",
       "<table border=\"1\" class=\"dataframe\">\n",
       "  <thead>\n",
       "    <tr style=\"text-align: right;\">\n",
       "      <th></th>\n",
       "      <th>Close</th>\n",
       "    </tr>\n",
       "    <tr>\n",
       "      <th>Date</th>\n",
       "      <th></th>\n",
       "    </tr>\n",
       "  </thead>\n",
       "  <tbody>\n",
       "    <tr>\n",
       "      <th>2020-07-30</th>\n",
       "      <td>18.730000</td>\n",
       "    </tr>\n",
       "    <tr>\n",
       "      <th>2020-07-31</th>\n",
       "      <td>18.889999</td>\n",
       "    </tr>\n",
       "    <tr>\n",
       "      <th>2020-08-03</th>\n",
       "      <td>19.299999</td>\n",
       "    </tr>\n",
       "    <tr>\n",
       "      <th>2020-08-04</th>\n",
       "      <td>20.080000</td>\n",
       "    </tr>\n",
       "    <tr>\n",
       "      <th>2020-08-05</th>\n",
       "      <td>20.160000</td>\n",
       "    </tr>\n",
       "    <tr>\n",
       "      <th>...</th>\n",
       "      <td>...</td>\n",
       "    </tr>\n",
       "    <tr>\n",
       "      <th>2022-08-22</th>\n",
       "      <td>70.199997</td>\n",
       "    </tr>\n",
       "    <tr>\n",
       "      <th>2022-08-23</th>\n",
       "      <td>69.019997</td>\n",
       "    </tr>\n",
       "    <tr>\n",
       "      <th>2022-08-24</th>\n",
       "      <td>67.070000</td>\n",
       "    </tr>\n",
       "    <tr>\n",
       "      <th>2022-08-25</th>\n",
       "      <td>68.010002</td>\n",
       "    </tr>\n",
       "    <tr>\n",
       "      <th>2022-08-26</th>\n",
       "      <td>67.470001</td>\n",
       "    </tr>\n",
       "  </tbody>\n",
       "</table>\n",
       "<p>524 rows × 1 columns</p>\n",
       "</div>"
      ],
      "text/plain": [
       "                Close\n",
       "Date                 \n",
       "2020-07-30  18.730000\n",
       "2020-07-31  18.889999\n",
       "2020-08-03  19.299999\n",
       "2020-08-04  20.080000\n",
       "2020-08-05  20.160000\n",
       "...               ...\n",
       "2022-08-22  70.199997\n",
       "2022-08-23  69.019997\n",
       "2022-08-24  67.070000\n",
       "2022-08-25  68.010002\n",
       "2022-08-26  67.470001\n",
       "\n",
       "[524 rows x 1 columns]"
      ]
     },
     "execution_count": 3,
     "metadata": {},
     "output_type": "execute_result"
    }
   ],
   "source": [
    "stock_data = stock_data[[\"Close\"]].copy()\n",
    "stock_data"
   ]
  },
  {
   "cell_type": "code",
   "execution_count": 4,
   "id": "a16d129d",
   "metadata": {},
   "outputs": [
    {
     "data": {
      "text/plain": [
       "Text(0, 0.5, 'Prices ($)')"
      ]
     },
     "execution_count": 4,
     "metadata": {},
     "output_type": "execute_result"
    },
    {
     "data": {
      "image/png": "[encoded data removed]",
      "text/plain": [
       "<Figure size 1080x576 with 1 Axes>"
      ]
     },
     "metadata": {
      "needs_background": "light"
     },
     "output_type": "display_data"
    }
   ],
   "source": [
    "# Visualizing Stock Prices History\n",
    "\n",
    "plt.figure(figsize=(15, 8))              # Setting up the plot figure size\n",
    "plt.title('Stock Close Prices History')  # Setting up the plot figure title\n",
    "plt.plot(stock_data['Close'])            # Create a line chart for historical close prices\n",
    "plt.xlabel('Date')                       # Set the x-axis and y-axis labels\n",
    "plt.ylabel('Prices ($)')"
   ]
  },
  {
   "cell_type": "code",
   "execution_count": 5,
   "id": "c44f1c5a",
   "metadata": {},
   "outputs": [
    {
     "data": {
      "text/html": [
       "<div>\n",
       "<style scoped>\n",
       "    .dataframe tbody tr th:only-of-type {\n",
       "        vertical-align: middle;\n",
       "    }\n",
       "\n",
       "    .dataframe tbody tr th {\n",
       "        vertical-align: top;\n",
       "    }\n",
       "\n",
       "    .dataframe thead th {\n",
       "        text-align: right;\n",
       "    }\n",
       "</style>\n",
       "<table border=\"1\" class=\"dataframe\">\n",
       "  <thead>\n",
       "    <tr style=\"text-align: right;\">\n",
       "      <th></th>\n",
       "      <th>Close</th>\n",
       "      <th>target</th>\n",
       "    </tr>\n",
       "    <tr>\n",
       "      <th>Date</th>\n",
       "      <th></th>\n",
       "      <th></th>\n",
       "    </tr>\n",
       "  </thead>\n",
       "  <tbody>\n",
       "    <tr>\n",
       "      <th>2020-07-30</th>\n",
       "      <td>18.730000</td>\n",
       "      <td>18.889999</td>\n",
       "    </tr>\n",
       "    <tr>\n",
       "      <th>2020-07-31</th>\n",
       "      <td>18.889999</td>\n",
       "      <td>19.299999</td>\n",
       "    </tr>\n",
       "    <tr>\n",
       "      <th>2020-08-03</th>\n",
       "      <td>19.299999</td>\n",
       "      <td>20.080000</td>\n",
       "    </tr>\n",
       "    <tr>\n",
       "      <th>2020-08-04</th>\n",
       "      <td>20.080000</td>\n",
       "      <td>20.160000</td>\n",
       "    </tr>\n",
       "    <tr>\n",
       "      <th>2020-08-05</th>\n",
       "      <td>20.160000</td>\n",
       "      <td>20.440001</td>\n",
       "    </tr>\n",
       "    <tr>\n",
       "      <th>...</th>\n",
       "      <td>...</td>\n",
       "      <td>...</td>\n",
       "    </tr>\n",
       "    <tr>\n",
       "      <th>2022-08-19</th>\n",
       "      <td>69.750000</td>\n",
       "      <td>70.199997</td>\n",
       "    </tr>\n",
       "    <tr>\n",
       "      <th>2022-08-22</th>\n",
       "      <td>70.199997</td>\n",
       "      <td>69.019997</td>\n",
       "    </tr>\n",
       "    <tr>\n",
       "      <th>2022-08-23</th>\n",
       "      <td>69.019997</td>\n",
       "      <td>67.070000</td>\n",
       "    </tr>\n",
       "    <tr>\n",
       "      <th>2022-08-24</th>\n",
       "      <td>67.070000</td>\n",
       "      <td>68.010002</td>\n",
       "    </tr>\n",
       "    <tr>\n",
       "      <th>2022-08-25</th>\n",
       "      <td>68.010002</td>\n",
       "      <td>67.470001</td>\n",
       "    </tr>\n",
       "  </tbody>\n",
       "</table>\n",
       "<p>523 rows × 2 columns</p>\n",
       "</div>"
      ],
      "text/plain": [
       "                Close     target\n",
       "Date                            \n",
       "2020-07-30  18.730000  18.889999\n",
       "2020-07-31  18.889999  19.299999\n",
       "2020-08-03  19.299999  20.080000\n",
       "2020-08-04  20.080000  20.160000\n",
       "2020-08-05  20.160000  20.440001\n",
       "...               ...        ...\n",
       "2022-08-19  69.750000  70.199997\n",
       "2022-08-22  70.199997  69.019997\n",
       "2022-08-23  69.019997  67.070000\n",
       "2022-08-24  67.070000  68.010002\n",
       "2022-08-25  68.010002  67.470001\n",
       "\n",
       "[523 rows x 2 columns]"
      ]
     },
     "execution_count": 5,
     "metadata": {},
     "output_type": "execute_result"
    }
   ],
   "source": [
    "stock_data[\"target\"] = stock_data.Close.shift(-1)\n",
    "stock_data.dropna(inplace=True)\n",
    "stock_data"
   ]
  },
  {
   "cell_type": "code",
   "execution_count": 6,
   "id": "6d33fd56",
   "metadata": {},
   "outputs": [],
   "source": [
    "def train_test_split(data, perc):\n",
    "    data = data.values\n",
    "    n = int(len(data) * (1-perc)) \n",
    "    return data[:n], data[n:], n"
   ]
  },
  {
   "cell_type": "code",
   "execution_count": 7,
   "id": "fa7c5123",
   "metadata": {},
   "outputs": [
    {
     "name": "stdout",
     "output_type": "stream",
     "text": [
      "523\n",
      "418\n",
      "105\n"
     ]
    }
   ],
   "source": [
    "train, test, n = train_test_split(stock_data, 0.2)\n",
    "print(len(stock_data))\n",
    "print(len(train))\n",
    "print(len(test))"
   ]
  },
  {
   "cell_type": "markdown",
   "id": "5c09dd4e",
   "metadata": {},
   "source": [
    "We'll use the XGBRegressor class to make a prediction, XGBRegressor is an implementaiton of the scikit-learn API for XGBoost regression"
   ]
  },
  {
   "cell_type": "markdown",
   "id": "67087eff",
   "metadata": {},
   "source": [
    "We'll take the train set and test input row as input, fit a model and make a prediction"
   ]
  },
  {
   "cell_type": "markdown",
   "id": "a78ba378",
   "metadata": {},
   "source": [
    "### Predict"
   ]
  },
  {
   "cell_type": "markdown",
   "id": "6d594dae",
   "metadata": {},
   "source": [
    "Train on train set and predict one sample at a time"
   ]
  },
  {
   "cell_type": "code",
   "execution_count": 8,
   "id": "4846cb98",
   "metadata": {},
   "outputs": [],
   "source": [
    "model = XGBRegressor(objective=\"reg:squarederror\", n_estimators=175)\n",
    "\n",
    "def xgb_predict(train, val):\n",
    "    train = np.array(train)\n",
    "    X_train, y_train = train[:, :-1], train[:, -1]\n",
    "    model.fit(X_train, y_train)\n",
    "    \n",
    "    val = np.array(val).reshape(1, -1)\n",
    "    pred = model.predict(val)\n",
    "    return pred[0]"
   ]
  },
  {
   "cell_type": "markdown",
   "id": "8176635e",
   "metadata": {},
   "source": [
    "### Walk-forward validation"
   ]
  },
  {
   "cell_type": "markdown",
   "id": "5db9c830",
   "metadata": {},
   "source": [
    "Since we are making a one step forward prediction, in this case the prediction we will predict the first record in the test dataset. Afterwards we add the real observation from the test set to the train set, refit the model, then predict the next step in the test dataset. We'll evaluate the model using RMSE metric."
   ]
  },
  {
   "cell_type": "code",
   "execution_count": 9,
   "id": "c2d552a2",
   "metadata": {},
   "outputs": [],
   "source": [
    "def validate(data, perc):\n",
    "    predictions = []\n",
    "    \n",
    "    train, test, n = train_test_split(data, perc)\n",
    "    \n",
    "    history = [x for x in train]\n",
    "                \n",
    "    for i in range(len(test)):\n",
    "        test_X, test_y = test[i, :-1], test[i, -1]\n",
    "                  \n",
    "        pred = xgb_predict(history, test_X)\n",
    "        predictions.append(pred)\n",
    "                  \n",
    "        history.append(test[i])\n",
    "                         \n",
    "    return test[:, -1], predictions"
   ]
  },
  {
   "cell_type": "code",
   "execution_count": 10,
   "id": "72dbfe48",
   "metadata": {},
   "outputs": [
    {
     "name": "stdout",
     "output_type": "stream",
     "text": [
      "CPU times: total: 3min\n",
      "Wall time: 28.2 s\n"
     ]
    }
   ],
   "source": [
    "%%time\n",
    "y_test, pred = validate(stock_data,0.2)"
   ]
  },
  {
   "cell_type": "code",
   "execution_count": 11,
   "id": "acfc3422",
   "metadata": {
    "scrolled": false
   },
   "outputs": [
    {
     "name": "stdout",
     "output_type": "stream",
     "text": [
      "RMSE on test set = 0.1331\n",
      "MAPE on test set = 3.0618%\n"
     ]
    }
   ],
   "source": [
    "# Apply the RMSE formula to calculate the degree of discrepancy between the predicted prices and real prices (y_test) and display the result\n",
    "rmse = np.sqrt(pow(np.mean(pred - y_test),2))\n",
    "\n",
    "# Apply the RMSE formula to calculate the degree of discrepancy between the predicted prices and real prices (y_test) and display the result\n",
    "mape = np.mean(np.abs((y_test - pred) / y_test)) * 100\n",
    "\n",
    "# Calculate RMSE\n",
    "print(\"RMSE on test set = %0.4f\" % rmse)\n",
    "\n",
    "# Calculate MAPE\n",
    "print(\"MAPE on test set = %0.4f%%\" % mape)"
   ]
  },
  {
   "cell_type": "code",
   "execution_count": 12,
   "id": "e08fc11e",
   "metadata": {},
   "outputs": [
    {
     "data": {
      "image/png": "[encoded data removed]",
      "text/plain": [
       "<Figure size 1152x576 with 1 Axes>"
      ]
     },
     "metadata": {
      "needs_background": "light"
     },
     "output_type": "display_data"
    }
   ],
   "source": [
    "# Visualizing the Predicted Prices\n",
    "\n",
    "# Use the filter method to only retain the closing price column in the dataframe\n",
    "data = stock_data.filter(['Close'])\n",
    "\n",
    "# Split our stock data into three plotting regions: training, validation and prediction\n",
    "train = data[:n]\n",
    "validation = data[n:]\n",
    "validation ['Predictions'] = pred\n",
    "\n",
    "# Configure the chart figure size, title, x-axis & y-axis label and legends\n",
    "plt.figure(figsize=(16,8))\n",
    "plt.title('XGBoost Model')\n",
    "plt.xlabel('Date')\n",
    "plt.ylabel('Close Price USD ($)')\n",
    "plt.plot(train)\n",
    "plt.plot(validation[['Close', 'Predictions']])\n",
    "plt.legend(['TRAIN', 'VALIDATION', 'PREDICTIONS'], loc='upper left')\n",
    "plt.show()"
   ]
  },
  {
   "cell_type": "code",
   "execution_count": 13,
   "id": "c2da4017",
   "metadata": {},
   "outputs": [
    {
     "data": {
      "image/png": "[encoded data removed]",
      "text/plain": [
       "<Figure size 1152x576 with 1 Axes>"
      ]
     },
     "metadata": {
      "needs_background": "light"
     },
     "output_type": "display_data"
    }
   ],
   "source": [
    "# Visualizing the Predicted Prices\n",
    "\n",
    "import time\n",
    "from datetime import date\n",
    "\n",
    "# Use the filter method to only retain the closing price column in the dataframe\n",
    "data = stock_data.filter(['Close'])\n",
    "\n",
    "# Split our stock data into three plotting regions: training, validation and prediction\n",
    "train = data[:n]\n",
    "validation = data[n:]\n",
    "validation ['Predictions'] = pred\n",
    "\n",
    "# Configure the chart figure size, title, x-axis & y-axis label and legends\n",
    "plt.figure(figsize=(16,8))\n",
    "plt.title('XGBoost Model')\n",
    "plt.xlabel('Date')\n",
    "plt.ylabel('Close Price USD ($)')\n",
    "plt.plot(train)\n",
    "plt.plot(validation[['Close', 'Predictions']])\n",
    "plt.legend(['TRAIN', 'VALIDATION', 'PREDICTIONS'], loc='upper left')\n",
    "plt.xlim([date(2022, 4, 1), date(2022, 8, 25)])\n",
    "plt.show()"
   ]
  },
  {
   "cell_type": "code",
   "execution_count": 14,
   "id": "681ac698",
   "metadata": {},
   "outputs": [
    {
     "data": {
      "text/html": [
       "<div>\n",
       "<style scoped>\n",
       "    .dataframe tbody tr th:only-of-type {\n",
       "        vertical-align: middle;\n",
       "    }\n",
       "\n",
       "    .dataframe tbody tr th {\n",
       "        vertical-align: top;\n",
       "    }\n",
       "\n",
       "    .dataframe thead th {\n",
       "        text-align: right;\n",
       "    }\n",
       "</style>\n",
       "<table border=\"1\" class=\"dataframe\">\n",
       "  <thead>\n",
       "    <tr style=\"text-align: right;\">\n",
       "      <th></th>\n",
       "      <th>Date</th>\n",
       "      <th>Open</th>\n",
       "      <th>High</th>\n",
       "      <th>Low</th>\n",
       "      <th>Close</th>\n",
       "      <th>Adj Close</th>\n",
       "      <th>Volume</th>\n",
       "    </tr>\n",
       "  </thead>\n",
       "  <tbody>\n",
       "    <tr>\n",
       "      <th>0</th>\n",
       "      <td>2020-07-30</td>\n",
       "      <td>18.709999</td>\n",
       "      <td>18.969999</td>\n",
       "      <td>18.580000</td>\n",
       "      <td>18.730000</td>\n",
       "      <td>18.705582</td>\n",
       "      <td>88600</td>\n",
       "    </tr>\n",
       "    <tr>\n",
       "      <th>1</th>\n",
       "      <td>2020-07-31</td>\n",
       "      <td>19.020000</td>\n",
       "      <td>19.100000</td>\n",
       "      <td>18.799999</td>\n",
       "      <td>18.889999</td>\n",
       "      <td>18.865374</td>\n",
       "      <td>48400</td>\n",
       "    </tr>\n",
       "    <tr>\n",
       "      <th>2</th>\n",
       "      <td>2020-08-03</td>\n",
       "      <td>19.330000</td>\n",
       "      <td>19.410000</td>\n",
       "      <td>19.209999</td>\n",
       "      <td>19.299999</td>\n",
       "      <td>19.274839</td>\n",
       "      <td>124000</td>\n",
       "    </tr>\n",
       "    <tr>\n",
       "      <th>3</th>\n",
       "      <td>2020-08-04</td>\n",
       "      <td>19.850000</td>\n",
       "      <td>20.139999</td>\n",
       "      <td>19.820000</td>\n",
       "      <td>20.080000</td>\n",
       "      <td>20.053823</td>\n",
       "      <td>57500</td>\n",
       "    </tr>\n",
       "    <tr>\n",
       "      <th>4</th>\n",
       "      <td>2020-08-05</td>\n",
       "      <td>20.180000</td>\n",
       "      <td>20.290001</td>\n",
       "      <td>20.090000</td>\n",
       "      <td>20.160000</td>\n",
       "      <td>20.133717</td>\n",
       "      <td>60200</td>\n",
       "    </tr>\n",
       "    <tr>\n",
       "      <th>...</th>\n",
       "      <td>...</td>\n",
       "      <td>...</td>\n",
       "      <td>...</td>\n",
       "      <td>...</td>\n",
       "      <td>...</td>\n",
       "      <td>...</td>\n",
       "      <td>...</td>\n",
       "    </tr>\n",
       "    <tr>\n",
       "      <th>519</th>\n",
       "      <td>2022-08-22</td>\n",
       "      <td>69.800003</td>\n",
       "      <td>70.519997</td>\n",
       "      <td>69.800003</td>\n",
       "      <td>70.199997</td>\n",
       "      <td>70.199997</td>\n",
       "      <td>77400</td>\n",
       "    </tr>\n",
       "    <tr>\n",
       "      <th>520</th>\n",
       "      <td>2022-08-23</td>\n",
       "      <td>69.000000</td>\n",
       "      <td>69.809998</td>\n",
       "      <td>67.889999</td>\n",
       "      <td>69.019997</td>\n",
       "      <td>69.019997</td>\n",
       "      <td>158700</td>\n",
       "    </tr>\n",
       "    <tr>\n",
       "      <th>521</th>\n",
       "      <td>2022-08-24</td>\n",
       "      <td>66.690002</td>\n",
       "      <td>67.550003</td>\n",
       "      <td>66.000000</td>\n",
       "      <td>67.070000</td>\n",
       "      <td>67.070000</td>\n",
       "      <td>138700</td>\n",
       "    </tr>\n",
       "    <tr>\n",
       "      <th>522</th>\n",
       "      <td>2022-08-25</td>\n",
       "      <td>67.150002</td>\n",
       "      <td>68.010002</td>\n",
       "      <td>66.220001</td>\n",
       "      <td>68.010002</td>\n",
       "      <td>68.010002</td>\n",
       "      <td>274600</td>\n",
       "    </tr>\n",
       "    <tr>\n",
       "      <th>523</th>\n",
       "      <td>2022-08-26</td>\n",
       "      <td>68.620003</td>\n",
       "      <td>69.239998</td>\n",
       "      <td>67.360001</td>\n",
       "      <td>67.470001</td>\n",
       "      <td>67.470001</td>\n",
       "      <td>227100</td>\n",
       "    </tr>\n",
       "  </tbody>\n",
       "</table>\n",
       "<p>524 rows × 7 columns</p>\n",
       "</div>"
      ],
      "text/plain": [
       "           Date       Open       High        Low      Close  Adj Close  Volume\n",
       "0    2020-07-30  18.709999  18.969999  18.580000  18.730000  18.705582   88600\n",
       "1    2020-07-31  19.020000  19.100000  18.799999  18.889999  18.865374   48400\n",
       "2    2020-08-03  19.330000  19.410000  19.209999  19.299999  19.274839  124000\n",
       "3    2020-08-04  19.850000  20.139999  19.820000  20.080000  20.053823   57500\n",
       "4    2020-08-05  20.180000  20.290001  20.090000  20.160000  20.133717   60200\n",
       "..          ...        ...        ...        ...        ...        ...     ...\n",
       "519  2022-08-22  69.800003  70.519997  69.800003  70.199997  70.199997   77400\n",
       "520  2022-08-23  69.000000  69.809998  67.889999  69.019997  69.019997  158700\n",
       "521  2022-08-24  66.690002  67.550003  66.000000  67.070000  67.070000  138700\n",
       "522  2022-08-25  67.150002  68.010002  66.220001  68.010002  68.010002  274600\n",
       "523  2022-08-26  68.620003  69.239998  67.360001  67.470001  67.470001  227100\n",
       "\n",
       "[524 rows x 7 columns]"
      ]
     },
     "execution_count": 14,
     "metadata": {},
     "output_type": "execute_result"
    }
   ],
   "source": [
    "stock_data1 = pd.read_csv(\"BYDDY_stocks.csv\")\n",
    "stock_data1"
   ]
  },
  {
   "cell_type": "code",
   "execution_count": 15,
   "id": "9738036a",
   "metadata": {},
   "outputs": [
    {
     "data": {
      "text/plain": [
       "Date         2022-08-26\n",
       "Open          68.620003\n",
       "High          69.239998\n",
       "Low           67.360001\n",
       "Close         67.470001\n",
       "Adj Close     67.470001\n",
       "Volume           227100\n",
       "Name: 523, dtype: object"
      ]
     },
     "execution_count": 15,
     "metadata": {},
     "output_type": "execute_result"
    }
   ],
   "source": [
    "stock_data1.iloc[-1]"
   ]
  },
  {
   "cell_type": "code",
   "execution_count": 16,
   "id": "86ad1655",
   "metadata": {},
   "outputs": [
    {
     "name": "stdout",
     "output_type": "stream",
     "text": [
      "Shape of X_input : (60, 1)\n"
     ]
    },
    {
     "data": {
      "text/plain": [
       "array([[71.29000092],\n",
       "       [74.61000061],\n",
       "       [73.09999847],\n",
       "       [76.48000336],\n",
       "       [76.47000122],\n",
       "       [77.87000275],\n",
       "       [74.80999756],\n",
       "       [78.27999878],\n",
       "       [75.41000366],\n",
       "       [79.30999756],\n",
       "       [75.59999847],\n",
       "       [72.81999969],\n",
       "       [74.58000183],\n",
       "       [76.88999939],\n",
       "       [76.16999817],\n",
       "       [79.        ],\n",
       "       [78.90000153],\n",
       "       [80.23999786],\n",
       "       [82.95999908],\n",
       "       [81.05000305],\n",
       "       [80.48000336],\n",
       "       [79.72000122],\n",
       "       [80.22000122],\n",
       "       [80.33999634],\n",
       "       [84.41999817],\n",
       "       [82.48999786],\n",
       "       [77.58000183],\n",
       "       [69.05000305],\n",
       "       [69.5       ],\n",
       "       [74.70999908],\n",
       "       [75.25      ],\n",
       "       [74.19999695],\n",
       "       [74.69999695],\n",
       "       [72.84999847],\n",
       "       [73.63999939],\n",
       "       [71.43000031],\n",
       "       [72.94000244],\n",
       "       [72.31999969],\n",
       "       [74.12000275],\n",
       "       [74.40000153],\n",
       "       [73.04000092],\n",
       "       [74.44999695],\n",
       "       [73.45999908],\n",
       "       [74.31999969],\n",
       "       [76.05999756],\n",
       "       [73.52999878],\n",
       "       [74.44000244],\n",
       "       [72.86000061],\n",
       "       [72.47000122],\n",
       "       [73.37999725],\n",
       "       [73.30999756],\n",
       "       [72.90000153],\n",
       "       [72.61000061],\n",
       "       [73.26999664],\n",
       "       [72.23999786],\n",
       "       [69.75      ],\n",
       "       [70.19999695],\n",
       "       [69.01999664],\n",
       "       [67.06999969],\n",
       "       [68.01000214]])"
      ]
     },
     "execution_count": 16,
     "metadata": {},
     "output_type": "execute_result"
    }
   ],
   "source": [
    "X_input = stock_data.iloc[-60:].Close.values               # getting last rows and converting to array\n",
    "X_input = (X_input.reshape(-1,1))                         # converting to 2D array\n",
    "X_input = np.reshape(X_input, (60,1))\n",
    "print(\"Shape of X_input :\", X_input.shape)\n",
    "X_input"
   ]
  },
  {
   "cell_type": "code",
   "execution_count": 17,
   "id": "905083f8",
   "metadata": {},
   "outputs": [
    {
     "name": "stdout",
     "output_type": "stream",
     "text": [
      "XGBoost prediction, Close price prediction for 29/8/2022 : 74.147255\n"
     ]
    }
   ],
   "source": [
    "XGBoost_prediction = model.predict(X_input)\n",
    "print(\"XGBoost prediction, Close price prediction for 29/8/2022 :\", XGBoost_prediction[0])"
   ]
  },
  {
   "cell_type": "code",
   "execution_count": 18,
   "id": "0f20c97e",
   "metadata": {},
   "outputs": [
    {
     "name": "stdout",
     "output_type": "stream",
     "text": [
      "[*********************100%***********************]  1 of 1 completed\n"
     ]
    },
    {
     "data": {
      "text/html": [
       "<div>\n",
       "<style scoped>\n",
       "    .dataframe tbody tr th:only-of-type {\n",
       "        vertical-align: middle;\n",
       "    }\n",
       "\n",
       "    .dataframe tbody tr th {\n",
       "        vertical-align: top;\n",
       "    }\n",
       "\n",
       "    .dataframe thead th {\n",
       "        text-align: right;\n",
       "    }\n",
       "</style>\n",
       "<table border=\"1\" class=\"dataframe\">\n",
       "  <thead>\n",
       "    <tr style=\"text-align: right;\">\n",
       "      <th></th>\n",
       "      <th>Open</th>\n",
       "      <th>High</th>\n",
       "      <th>Low</th>\n",
       "      <th>Close</th>\n",
       "      <th>Adj Close</th>\n",
       "      <th>Volume</th>\n",
       "    </tr>\n",
       "    <tr>\n",
       "      <th>Date</th>\n",
       "      <th></th>\n",
       "      <th></th>\n",
       "      <th></th>\n",
       "      <th></th>\n",
       "      <th></th>\n",
       "      <th></th>\n",
       "    </tr>\n",
       "  </thead>\n",
       "  <tbody>\n",
       "    <tr>\n",
       "      <th>2022-08-29</th>\n",
       "      <td>68.279999</td>\n",
       "      <td>69.849998</td>\n",
       "      <td>68.059998</td>\n",
       "      <td>69.68</td>\n",
       "      <td>69.68</td>\n",
       "      <td>171800</td>\n",
       "    </tr>\n",
       "  </tbody>\n",
       "</table>\n",
       "</div>"
      ],
      "text/plain": [
       "                 Open       High        Low  Close  Adj Close  Volume\n",
       "Date                                                                 \n",
       "2022-08-29  68.279999  69.849998  68.059998  69.68      69.68  171800"
      ]
     },
     "execution_count": 18,
     "metadata": {},
     "output_type": "execute_result"
    }
   ],
   "source": [
    "# Accquiring stock data starting from 29 August 2022 to 30 August 2022 and preview the data\n",
    "stock_data2 = yf.download('BYDDY', start='2022-08-29', end='2022-08-30')\n",
    "stock_data2"
   ]
  }
 ],
 "metadata": {
  "kernelspec": {
   "display_name": "Python 3 (ipykernel)",
   "language": "python",
   "name": "python3"
  },
  "language_info": {
   "codemirror_mode": {
    "name": "ipython",
    "version": 3
   },
   "file_extension": ".py",
   "mimetype": "text/x-python",
   "name": "python",
   "nbconvert_exporter": "python",
   "pygments_lexer": "ipython3",
   "version": "3.9.12"
  }
 },
 "nbformat": 4,
 "nbformat_minor": 5
}
